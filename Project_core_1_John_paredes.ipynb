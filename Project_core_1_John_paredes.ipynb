{
  "nbformat": 4,
  "nbformat_minor": 0,
  "metadata": {
    "colab": {
      "name": "Project core 1 - John paredes",
      "provenance": [],
      "authorship_tag": "ABX9TyOcWbQZgOytvXmcwK5DXory",
      "include_colab_link": true
    },
    "kernelspec": {
      "name": "python3",
      "display_name": "Python 3"
    },
    "language_info": {
      "name": "python"
    }
  },
  "cells": [
    {
      "cell_type": "markdown",
      "metadata": {
        "id": "view-in-github",
        "colab_type": "text"
      },
      "source": [
        "<a href=\"https://colab.research.google.com/github/ch3rnoalpha/Sales_predictions---john-paredes/blob/main/Project_core_1_John_paredes.ipynb\" target=\"_parent\"><img src=\"https://colab.research.google.com/assets/colab-badge.svg\" alt=\"Open In Colab\"/></a>"
      ]
    },
    {
      "cell_type": "markdown",
      "source": [
        "Project core 2\n",
        "\n",
        "John paredes"
      ],
      "metadata": {
        "id": "Z4rhh6fXlh_g"
      }
    },
    {
      "cell_type": "code",
      "source": [
        "#imports drive and mounts it\n",
        "from google.colab import drive\n",
        "drive.mount('/content/drive')"
      ],
      "metadata": {
        "colab": {
          "base_uri": "https://localhost:8080/"
        },
        "id": "VZ7pRkyBBi45",
        "outputId": "ae7d430f-f6cd-4e95-ef77-d12f195688a7"
      },
      "execution_count": 2,
      "outputs": [
        {
          "output_type": "stream",
          "name": "stdout",
          "text": [
            "Mounted at /content/drive\n"
          ]
        }
      ]
    },
    {
      "cell_type": "code",
      "execution_count": 3,
      "metadata": {
        "id": "qmLLlw_ZkY9I"
      },
      "outputs": [],
      "source": [
        "#imports pandas as 'pd'\n",
        "import pandas as pd\n",
        "import matplotlib.pyplot as plt\n",
        "import seaborn as sns\n",
        "import numpy as np"
      ]
    },
    {
      "cell_type": "code",
      "source": [
        "#sets filepath as file name and creates dataframe\n",
        "filename = '/content/drive/MyDrive/CodingDojo/Data files/sales_predictions.csv'\n",
        "df = pd.read_csv(filename)\n",
        "df.head()"
      ],
      "metadata": {
        "id": "txbHtlLLkryS",
        "colab": {
          "base_uri": "https://localhost:8080/",
          "height": 206
        },
        "outputId": "4df0302e-ed61-4240-8d7f-0a753857f0ba"
      },
      "execution_count": 4,
      "outputs": [
        {
          "output_type": "execute_result",
          "data": {
            "text/plain": [
              "  Item_Identifier  Item_Weight Item_Fat_Content  Item_Visibility  \\\n",
              "0           FDA15         9.30          Low Fat         0.016047   \n",
              "1           DRC01         5.92          Regular         0.019278   \n",
              "2           FDN15        17.50          Low Fat         0.016760   \n",
              "3           FDX07        19.20          Regular         0.000000   \n",
              "4           NCD19         8.93          Low Fat         0.000000   \n",
              "\n",
              "               Item_Type  Item_MRP Outlet_Identifier  \\\n",
              "0                  Dairy  249.8092            OUT049   \n",
              "1            Soft Drinks   48.2692            OUT018   \n",
              "2                   Meat  141.6180            OUT049   \n",
              "3  Fruits and Vegetables  182.0950            OUT010   \n",
              "4              Household   53.8614            OUT013   \n",
              "\n",
              "   Outlet_Establishment_Year Outlet_Size Outlet_Location_Type  \\\n",
              "0                       1999      Medium               Tier 1   \n",
              "1                       2009      Medium               Tier 3   \n",
              "2                       1999      Medium               Tier 1   \n",
              "3                       1998         NaN               Tier 3   \n",
              "4                       1987        High               Tier 3   \n",
              "\n",
              "         Outlet_Type  Item_Outlet_Sales  \n",
              "0  Supermarket Type1          3735.1380  \n",
              "1  Supermarket Type2           443.4228  \n",
              "2  Supermarket Type1          2097.2700  \n",
              "3      Grocery Store           732.3800  \n",
              "4  Supermarket Type1           994.7052  "
            ],
            "text/html": [
              "\n",
              "  <div id=\"df-a3368d16-fd7d-4e6e-81f7-2e3c0c117071\">\n",
              "    <div class=\"colab-df-container\">\n",
              "      <div>\n",
              "<style scoped>\n",
              "    .dataframe tbody tr th:only-of-type {\n",
              "        vertical-align: middle;\n",
              "    }\n",
              "\n",
              "    .dataframe tbody tr th {\n",
              "        vertical-align: top;\n",
              "    }\n",
              "\n",
              "    .dataframe thead th {\n",
              "        text-align: right;\n",
              "    }\n",
              "</style>\n",
              "<table border=\"1\" class=\"dataframe\">\n",
              "  <thead>\n",
              "    <tr style=\"text-align: right;\">\n",
              "      <th></th>\n",
              "      <th>Item_Identifier</th>\n",
              "      <th>Item_Weight</th>\n",
              "      <th>Item_Fat_Content</th>\n",
              "      <th>Item_Visibility</th>\n",
              "      <th>Item_Type</th>\n",
              "      <th>Item_MRP</th>\n",
              "      <th>Outlet_Identifier</th>\n",
              "      <th>Outlet_Establishment_Year</th>\n",
              "      <th>Outlet_Size</th>\n",
              "      <th>Outlet_Location_Type</th>\n",
              "      <th>Outlet_Type</th>\n",
              "      <th>Item_Outlet_Sales</th>\n",
              "    </tr>\n",
              "  </thead>\n",
              "  <tbody>\n",
              "    <tr>\n",
              "      <th>0</th>\n",
              "      <td>FDA15</td>\n",
              "      <td>9.30</td>\n",
              "      <td>Low Fat</td>\n",
              "      <td>0.016047</td>\n",
              "      <td>Dairy</td>\n",
              "      <td>249.8092</td>\n",
              "      <td>OUT049</td>\n",
              "      <td>1999</td>\n",
              "      <td>Medium</td>\n",
              "      <td>Tier 1</td>\n",
              "      <td>Supermarket Type1</td>\n",
              "      <td>3735.1380</td>\n",
              "    </tr>\n",
              "    <tr>\n",
              "      <th>1</th>\n",
              "      <td>DRC01</td>\n",
              "      <td>5.92</td>\n",
              "      <td>Regular</td>\n",
              "      <td>0.019278</td>\n",
              "      <td>Soft Drinks</td>\n",
              "      <td>48.2692</td>\n",
              "      <td>OUT018</td>\n",
              "      <td>2009</td>\n",
              "      <td>Medium</td>\n",
              "      <td>Tier 3</td>\n",
              "      <td>Supermarket Type2</td>\n",
              "      <td>443.4228</td>\n",
              "    </tr>\n",
              "    <tr>\n",
              "      <th>2</th>\n",
              "      <td>FDN15</td>\n",
              "      <td>17.50</td>\n",
              "      <td>Low Fat</td>\n",
              "      <td>0.016760</td>\n",
              "      <td>Meat</td>\n",
              "      <td>141.6180</td>\n",
              "      <td>OUT049</td>\n",
              "      <td>1999</td>\n",
              "      <td>Medium</td>\n",
              "      <td>Tier 1</td>\n",
              "      <td>Supermarket Type1</td>\n",
              "      <td>2097.2700</td>\n",
              "    </tr>\n",
              "    <tr>\n",
              "      <th>3</th>\n",
              "      <td>FDX07</td>\n",
              "      <td>19.20</td>\n",
              "      <td>Regular</td>\n",
              "      <td>0.000000</td>\n",
              "      <td>Fruits and Vegetables</td>\n",
              "      <td>182.0950</td>\n",
              "      <td>OUT010</td>\n",
              "      <td>1998</td>\n",
              "      <td>NaN</td>\n",
              "      <td>Tier 3</td>\n",
              "      <td>Grocery Store</td>\n",
              "      <td>732.3800</td>\n",
              "    </tr>\n",
              "    <tr>\n",
              "      <th>4</th>\n",
              "      <td>NCD19</td>\n",
              "      <td>8.93</td>\n",
              "      <td>Low Fat</td>\n",
              "      <td>0.000000</td>\n",
              "      <td>Household</td>\n",
              "      <td>53.8614</td>\n",
              "      <td>OUT013</td>\n",
              "      <td>1987</td>\n",
              "      <td>High</td>\n",
              "      <td>Tier 3</td>\n",
              "      <td>Supermarket Type1</td>\n",
              "      <td>994.7052</td>\n",
              "    </tr>\n",
              "  </tbody>\n",
              "</table>\n",
              "</div>\n",
              "      <button class=\"colab-df-convert\" onclick=\"convertToInteractive('df-a3368d16-fd7d-4e6e-81f7-2e3c0c117071')\"\n",
              "              title=\"Convert this dataframe to an interactive table.\"\n",
              "              style=\"display:none;\">\n",
              "        \n",
              "  <svg xmlns=\"http://www.w3.org/2000/svg\" height=\"24px\"viewBox=\"0 0 24 24\"\n",
              "       width=\"24px\">\n",
              "    <path d=\"M0 0h24v24H0V0z\" fill=\"none\"/>\n",
              "    <path d=\"M18.56 5.44l.94 2.06.94-2.06 2.06-.94-2.06-.94-.94-2.06-.94 2.06-2.06.94zm-11 1L8.5 8.5l.94-2.06 2.06-.94-2.06-.94L8.5 2.5l-.94 2.06-2.06.94zm10 10l.94 2.06.94-2.06 2.06-.94-2.06-.94-.94-2.06-.94 2.06-2.06.94z\"/><path d=\"M17.41 7.96l-1.37-1.37c-.4-.4-.92-.59-1.43-.59-.52 0-1.04.2-1.43.59L10.3 9.45l-7.72 7.72c-.78.78-.78 2.05 0 2.83L4 21.41c.39.39.9.59 1.41.59.51 0 1.02-.2 1.41-.59l7.78-7.78 2.81-2.81c.8-.78.8-2.07 0-2.86zM5.41 20L4 18.59l7.72-7.72 1.47 1.35L5.41 20z\"/>\n",
              "  </svg>\n",
              "      </button>\n",
              "      \n",
              "  <style>\n",
              "    .colab-df-container {\n",
              "      display:flex;\n",
              "      flex-wrap:wrap;\n",
              "      gap: 12px;\n",
              "    }\n",
              "\n",
              "    .colab-df-convert {\n",
              "      background-color: #E8F0FE;\n",
              "      border: none;\n",
              "      border-radius: 50%;\n",
              "      cursor: pointer;\n",
              "      display: none;\n",
              "      fill: #1967D2;\n",
              "      height: 32px;\n",
              "      padding: 0 0 0 0;\n",
              "      width: 32px;\n",
              "    }\n",
              "\n",
              "    .colab-df-convert:hover {\n",
              "      background-color: #E2EBFA;\n",
              "      box-shadow: 0px 1px 2px rgba(60, 64, 67, 0.3), 0px 1px 3px 1px rgba(60, 64, 67, 0.15);\n",
              "      fill: #174EA6;\n",
              "    }\n",
              "\n",
              "    [theme=dark] .colab-df-convert {\n",
              "      background-color: #3B4455;\n",
              "      fill: #D2E3FC;\n",
              "    }\n",
              "\n",
              "    [theme=dark] .colab-df-convert:hover {\n",
              "      background-color: #434B5C;\n",
              "      box-shadow: 0px 1px 3px 1px rgba(0, 0, 0, 0.15);\n",
              "      filter: drop-shadow(0px 1px 2px rgba(0, 0, 0, 0.3));\n",
              "      fill: #FFFFFF;\n",
              "    }\n",
              "  </style>\n",
              "\n",
              "      <script>\n",
              "        const buttonEl =\n",
              "          document.querySelector('#df-a3368d16-fd7d-4e6e-81f7-2e3c0c117071 button.colab-df-convert');\n",
              "        buttonEl.style.display =\n",
              "          google.colab.kernel.accessAllowed ? 'block' : 'none';\n",
              "\n",
              "        async function convertToInteractive(key) {\n",
              "          const element = document.querySelector('#df-a3368d16-fd7d-4e6e-81f7-2e3c0c117071');\n",
              "          const dataTable =\n",
              "            await google.colab.kernel.invokeFunction('convertToInteractive',\n",
              "                                                     [key], {});\n",
              "          if (!dataTable) return;\n",
              "\n",
              "          const docLinkHtml = 'Like what you see? Visit the ' +\n",
              "            '<a target=\"_blank\" href=https://colab.research.google.com/notebooks/data_table.ipynb>data table notebook</a>'\n",
              "            + ' to learn more about interactive tables.';\n",
              "          element.innerHTML = '';\n",
              "          dataTable['output_type'] = 'display_data';\n",
              "          await google.colab.output.renderOutput(dataTable, element);\n",
              "          const docLink = document.createElement('div');\n",
              "          docLink.innerHTML = docLinkHtml;\n",
              "          element.appendChild(docLink);\n",
              "        }\n",
              "      </script>\n",
              "    </div>\n",
              "  </div>\n",
              "  "
            ]
          },
          "metadata": {},
          "execution_count": 4
        }
      ]
    },
    {
      "cell_type": "code",
      "source": [
        "#shows the shape of the dataframe\n",
        "df.shape"
      ],
      "metadata": {
        "colab": {
          "base_uri": "https://localhost:8080/"
        },
        "id": "TAjd46KKAz42",
        "outputId": "06f82e23-b924-4d2a-abab-5970d28005bc"
      },
      "execution_count": 5,
      "outputs": [
        {
          "output_type": "execute_result",
          "data": {
            "text/plain": [
              "(8523, 12)"
            ]
          },
          "metadata": {},
          "execution_count": 5
        }
      ]
    },
    {
      "cell_type": "code",
      "source": [
        "#shows data types\n",
        "df.dtypes"
      ],
      "metadata": {
        "id": "Xyzlf5yFC1Ja",
        "colab": {
          "base_uri": "https://localhost:8080/"
        },
        "outputId": "876c4874-31ab-4963-a4d1-5db3dd4d3a23"
      },
      "execution_count": 6,
      "outputs": [
        {
          "output_type": "execute_result",
          "data": {
            "text/plain": [
              "Item_Identifier               object\n",
              "Item_Weight                  float64\n",
              "Item_Fat_Content              object\n",
              "Item_Visibility              float64\n",
              "Item_Type                     object\n",
              "Item_MRP                     float64\n",
              "Outlet_Identifier             object\n",
              "Outlet_Establishment_Year      int64\n",
              "Outlet_Size                   object\n",
              "Outlet_Location_Type          object\n",
              "Outlet_Type                   object\n",
              "Item_Outlet_Sales            float64\n",
              "dtype: object"
            ]
          },
          "metadata": {},
          "execution_count": 6
        }
      ]
    },
    {
      "cell_type": "code",
      "source": [
        "#drops duplicates\n",
        "df.drop_duplicates(subset =[\"Item_Identifier\"], keep ='last', inplace = True)\n",
        "df"
      ],
      "metadata": {
        "id": "Gjafr75YC5Qq",
        "colab": {
          "base_uri": "https://localhost:8080/",
          "height": 423
        },
        "outputId": "5a06013b-2d7c-47b3-f2fa-6b849a099832"
      },
      "execution_count": 7,
      "outputs": [
        {
          "output_type": "execute_result",
          "data": {
            "text/plain": [
              "     Item_Identifier  Item_Weight Item_Fat_Content  Item_Visibility  \\\n",
              "927            FDN52          NaN          Regular         0.130933   \n",
              "1155           FDO33       14.750          Low Fat         0.089686   \n",
              "1271           FDY43       14.850          Low Fat         0.098803   \n",
              "1349           FDY58       11.650          Low Fat         0.039981   \n",
              "1567           FDR03       15.700          Regular         0.008734   \n",
              "...              ...          ...              ...              ...   \n",
              "8518           FDF22        6.865          Low Fat         0.056783   \n",
              "8519           FDS36        8.380          Regular         0.046982   \n",
              "8520           NCJ29       10.600          Low Fat         0.035186   \n",
              "8521           FDN46        7.210          Regular         0.145221   \n",
              "8522           DRG01       14.800          Low Fat         0.044878   \n",
              "\n",
              "                  Item_Type  Item_MRP Outlet_Identifier  \\\n",
              "927            Frozen Foods   86.9198            OUT027   \n",
              "1155            Snack Foods  115.3518            OUT018   \n",
              "1271  Fruits and Vegetables  169.7474            OUT018   \n",
              "1349            Snack Foods  227.3694            OUT049   \n",
              "1567                   Meat  207.8980            OUT035   \n",
              "...                     ...       ...               ...   \n",
              "8518            Snack Foods  214.5218            OUT013   \n",
              "8519           Baking Goods  108.1570            OUT045   \n",
              "8520     Health and Hygiene   85.1224            OUT035   \n",
              "8521            Snack Foods  103.1332            OUT018   \n",
              "8522            Soft Drinks   75.4670            OUT046   \n",
              "\n",
              "      Outlet_Establishment_Year Outlet_Size Outlet_Location_Type  \\\n",
              "927                        1985      Medium               Tier 3   \n",
              "1155                       2009      Medium               Tier 3   \n",
              "1271                       2009      Medium               Tier 3   \n",
              "1349                       1999      Medium               Tier 1   \n",
              "1567                       2004       Small               Tier 2   \n",
              "...                         ...         ...                  ...   \n",
              "8518                       1987        High               Tier 3   \n",
              "8519                       2002         NaN               Tier 2   \n",
              "8520                       2004       Small               Tier 2   \n",
              "8521                       2009      Medium               Tier 3   \n",
              "8522                       1997       Small               Tier 1   \n",
              "\n",
              "            Outlet_Type  Item_Outlet_Sales  \n",
              "927   Supermarket Type3          1569.9564  \n",
              "1155  Supermarket Type2          1821.6288  \n",
              "1271  Supermarket Type2           673.7896  \n",
              "1349  Supermarket Type1          4567.3880  \n",
              "1567  Supermarket Type1          3095.9700  \n",
              "...                 ...                ...  \n",
              "8518  Supermarket Type1          2778.3834  \n",
              "8519  Supermarket Type1           549.2850  \n",
              "8520  Supermarket Type1          1193.1136  \n",
              "8521  Supermarket Type2          1845.5976  \n",
              "8522  Supermarket Type1           765.6700  \n",
              "\n",
              "[1559 rows x 12 columns]"
            ],
            "text/html": [
              "\n",
              "  <div id=\"df-095b3008-6c67-4de1-aee5-2bea526018ca\">\n",
              "    <div class=\"colab-df-container\">\n",
              "      <div>\n",
              "<style scoped>\n",
              "    .dataframe tbody tr th:only-of-type {\n",
              "        vertical-align: middle;\n",
              "    }\n",
              "\n",
              "    .dataframe tbody tr th {\n",
              "        vertical-align: top;\n",
              "    }\n",
              "\n",
              "    .dataframe thead th {\n",
              "        text-align: right;\n",
              "    }\n",
              "</style>\n",
              "<table border=\"1\" class=\"dataframe\">\n",
              "  <thead>\n",
              "    <tr style=\"text-align: right;\">\n",
              "      <th></th>\n",
              "      <th>Item_Identifier</th>\n",
              "      <th>Item_Weight</th>\n",
              "      <th>Item_Fat_Content</th>\n",
              "      <th>Item_Visibility</th>\n",
              "      <th>Item_Type</th>\n",
              "      <th>Item_MRP</th>\n",
              "      <th>Outlet_Identifier</th>\n",
              "      <th>Outlet_Establishment_Year</th>\n",
              "      <th>Outlet_Size</th>\n",
              "      <th>Outlet_Location_Type</th>\n",
              "      <th>Outlet_Type</th>\n",
              "      <th>Item_Outlet_Sales</th>\n",
              "    </tr>\n",
              "  </thead>\n",
              "  <tbody>\n",
              "    <tr>\n",
              "      <th>927</th>\n",
              "      <td>FDN52</td>\n",
              "      <td>NaN</td>\n",
              "      <td>Regular</td>\n",
              "      <td>0.130933</td>\n",
              "      <td>Frozen Foods</td>\n",
              "      <td>86.9198</td>\n",
              "      <td>OUT027</td>\n",
              "      <td>1985</td>\n",
              "      <td>Medium</td>\n",
              "      <td>Tier 3</td>\n",
              "      <td>Supermarket Type3</td>\n",
              "      <td>1569.9564</td>\n",
              "    </tr>\n",
              "    <tr>\n",
              "      <th>1155</th>\n",
              "      <td>FDO33</td>\n",
              "      <td>14.750</td>\n",
              "      <td>Low Fat</td>\n",
              "      <td>0.089686</td>\n",
              "      <td>Snack Foods</td>\n",
              "      <td>115.3518</td>\n",
              "      <td>OUT018</td>\n",
              "      <td>2009</td>\n",
              "      <td>Medium</td>\n",
              "      <td>Tier 3</td>\n",
              "      <td>Supermarket Type2</td>\n",
              "      <td>1821.6288</td>\n",
              "    </tr>\n",
              "    <tr>\n",
              "      <th>1271</th>\n",
              "      <td>FDY43</td>\n",
              "      <td>14.850</td>\n",
              "      <td>Low Fat</td>\n",
              "      <td>0.098803</td>\n",
              "      <td>Fruits and Vegetables</td>\n",
              "      <td>169.7474</td>\n",
              "      <td>OUT018</td>\n",
              "      <td>2009</td>\n",
              "      <td>Medium</td>\n",
              "      <td>Tier 3</td>\n",
              "      <td>Supermarket Type2</td>\n",
              "      <td>673.7896</td>\n",
              "    </tr>\n",
              "    <tr>\n",
              "      <th>1349</th>\n",
              "      <td>FDY58</td>\n",
              "      <td>11.650</td>\n",
              "      <td>Low Fat</td>\n",
              "      <td>0.039981</td>\n",
              "      <td>Snack Foods</td>\n",
              "      <td>227.3694</td>\n",
              "      <td>OUT049</td>\n",
              "      <td>1999</td>\n",
              "      <td>Medium</td>\n",
              "      <td>Tier 1</td>\n",
              "      <td>Supermarket Type1</td>\n",
              "      <td>4567.3880</td>\n",
              "    </tr>\n",
              "    <tr>\n",
              "      <th>1567</th>\n",
              "      <td>FDR03</td>\n",
              "      <td>15.700</td>\n",
              "      <td>Regular</td>\n",
              "      <td>0.008734</td>\n",
              "      <td>Meat</td>\n",
              "      <td>207.8980</td>\n",
              "      <td>OUT035</td>\n",
              "      <td>2004</td>\n",
              "      <td>Small</td>\n",
              "      <td>Tier 2</td>\n",
              "      <td>Supermarket Type1</td>\n",
              "      <td>3095.9700</td>\n",
              "    </tr>\n",
              "    <tr>\n",
              "      <th>...</th>\n",
              "      <td>...</td>\n",
              "      <td>...</td>\n",
              "      <td>...</td>\n",
              "      <td>...</td>\n",
              "      <td>...</td>\n",
              "      <td>...</td>\n",
              "      <td>...</td>\n",
              "      <td>...</td>\n",
              "      <td>...</td>\n",
              "      <td>...</td>\n",
              "      <td>...</td>\n",
              "      <td>...</td>\n",
              "    </tr>\n",
              "    <tr>\n",
              "      <th>8518</th>\n",
              "      <td>FDF22</td>\n",
              "      <td>6.865</td>\n",
              "      <td>Low Fat</td>\n",
              "      <td>0.056783</td>\n",
              "      <td>Snack Foods</td>\n",
              "      <td>214.5218</td>\n",
              "      <td>OUT013</td>\n",
              "      <td>1987</td>\n",
              "      <td>High</td>\n",
              "      <td>Tier 3</td>\n",
              "      <td>Supermarket Type1</td>\n",
              "      <td>2778.3834</td>\n",
              "    </tr>\n",
              "    <tr>\n",
              "      <th>8519</th>\n",
              "      <td>FDS36</td>\n",
              "      <td>8.380</td>\n",
              "      <td>Regular</td>\n",
              "      <td>0.046982</td>\n",
              "      <td>Baking Goods</td>\n",
              "      <td>108.1570</td>\n",
              "      <td>OUT045</td>\n",
              "      <td>2002</td>\n",
              "      <td>NaN</td>\n",
              "      <td>Tier 2</td>\n",
              "      <td>Supermarket Type1</td>\n",
              "      <td>549.2850</td>\n",
              "    </tr>\n",
              "    <tr>\n",
              "      <th>8520</th>\n",
              "      <td>NCJ29</td>\n",
              "      <td>10.600</td>\n",
              "      <td>Low Fat</td>\n",
              "      <td>0.035186</td>\n",
              "      <td>Health and Hygiene</td>\n",
              "      <td>85.1224</td>\n",
              "      <td>OUT035</td>\n",
              "      <td>2004</td>\n",
              "      <td>Small</td>\n",
              "      <td>Tier 2</td>\n",
              "      <td>Supermarket Type1</td>\n",
              "      <td>1193.1136</td>\n",
              "    </tr>\n",
              "    <tr>\n",
              "      <th>8521</th>\n",
              "      <td>FDN46</td>\n",
              "      <td>7.210</td>\n",
              "      <td>Regular</td>\n",
              "      <td>0.145221</td>\n",
              "      <td>Snack Foods</td>\n",
              "      <td>103.1332</td>\n",
              "      <td>OUT018</td>\n",
              "      <td>2009</td>\n",
              "      <td>Medium</td>\n",
              "      <td>Tier 3</td>\n",
              "      <td>Supermarket Type2</td>\n",
              "      <td>1845.5976</td>\n",
              "    </tr>\n",
              "    <tr>\n",
              "      <th>8522</th>\n",
              "      <td>DRG01</td>\n",
              "      <td>14.800</td>\n",
              "      <td>Low Fat</td>\n",
              "      <td>0.044878</td>\n",
              "      <td>Soft Drinks</td>\n",
              "      <td>75.4670</td>\n",
              "      <td>OUT046</td>\n",
              "      <td>1997</td>\n",
              "      <td>Small</td>\n",
              "      <td>Tier 1</td>\n",
              "      <td>Supermarket Type1</td>\n",
              "      <td>765.6700</td>\n",
              "    </tr>\n",
              "  </tbody>\n",
              "</table>\n",
              "<p>1559 rows × 12 columns</p>\n",
              "</div>\n",
              "      <button class=\"colab-df-convert\" onclick=\"convertToInteractive('df-095b3008-6c67-4de1-aee5-2bea526018ca')\"\n",
              "              title=\"Convert this dataframe to an interactive table.\"\n",
              "              style=\"display:none;\">\n",
              "        \n",
              "  <svg xmlns=\"http://www.w3.org/2000/svg\" height=\"24px\"viewBox=\"0 0 24 24\"\n",
              "       width=\"24px\">\n",
              "    <path d=\"M0 0h24v24H0V0z\" fill=\"none\"/>\n",
              "    <path d=\"M18.56 5.44l.94 2.06.94-2.06 2.06-.94-2.06-.94-.94-2.06-.94 2.06-2.06.94zm-11 1L8.5 8.5l.94-2.06 2.06-.94-2.06-.94L8.5 2.5l-.94 2.06-2.06.94zm10 10l.94 2.06.94-2.06 2.06-.94-2.06-.94-.94-2.06-.94 2.06-2.06.94z\"/><path d=\"M17.41 7.96l-1.37-1.37c-.4-.4-.92-.59-1.43-.59-.52 0-1.04.2-1.43.59L10.3 9.45l-7.72 7.72c-.78.78-.78 2.05 0 2.83L4 21.41c.39.39.9.59 1.41.59.51 0 1.02-.2 1.41-.59l7.78-7.78 2.81-2.81c.8-.78.8-2.07 0-2.86zM5.41 20L4 18.59l7.72-7.72 1.47 1.35L5.41 20z\"/>\n",
              "  </svg>\n",
              "      </button>\n",
              "      \n",
              "  <style>\n",
              "    .colab-df-container {\n",
              "      display:flex;\n",
              "      flex-wrap:wrap;\n",
              "      gap: 12px;\n",
              "    }\n",
              "\n",
              "    .colab-df-convert {\n",
              "      background-color: #E8F0FE;\n",
              "      border: none;\n",
              "      border-radius: 50%;\n",
              "      cursor: pointer;\n",
              "      display: none;\n",
              "      fill: #1967D2;\n",
              "      height: 32px;\n",
              "      padding: 0 0 0 0;\n",
              "      width: 32px;\n",
              "    }\n",
              "\n",
              "    .colab-df-convert:hover {\n",
              "      background-color: #E2EBFA;\n",
              "      box-shadow: 0px 1px 2px rgba(60, 64, 67, 0.3), 0px 1px 3px 1px rgba(60, 64, 67, 0.15);\n",
              "      fill: #174EA6;\n",
              "    }\n",
              "\n",
              "    [theme=dark] .colab-df-convert {\n",
              "      background-color: #3B4455;\n",
              "      fill: #D2E3FC;\n",
              "    }\n",
              "\n",
              "    [theme=dark] .colab-df-convert:hover {\n",
              "      background-color: #434B5C;\n",
              "      box-shadow: 0px 1px 3px 1px rgba(0, 0, 0, 0.15);\n",
              "      filter: drop-shadow(0px 1px 2px rgba(0, 0, 0, 0.3));\n",
              "      fill: #FFFFFF;\n",
              "    }\n",
              "  </style>\n",
              "\n",
              "      <script>\n",
              "        const buttonEl =\n",
              "          document.querySelector('#df-095b3008-6c67-4de1-aee5-2bea526018ca button.colab-df-convert');\n",
              "        buttonEl.style.display =\n",
              "          google.colab.kernel.accessAllowed ? 'block' : 'none';\n",
              "\n",
              "        async function convertToInteractive(key) {\n",
              "          const element = document.querySelector('#df-095b3008-6c67-4de1-aee5-2bea526018ca');\n",
              "          const dataTable =\n",
              "            await google.colab.kernel.invokeFunction('convertToInteractive',\n",
              "                                                     [key], {});\n",
              "          if (!dataTable) return;\n",
              "\n",
              "          const docLinkHtml = 'Like what you see? Visit the ' +\n",
              "            '<a target=\"_blank\" href=https://colab.research.google.com/notebooks/data_table.ipynb>data table notebook</a>'\n",
              "            + ' to learn more about interactive tables.';\n",
              "          element.innerHTML = '';\n",
              "          dataTable['output_type'] = 'display_data';\n",
              "          await google.colab.output.renderOutput(dataTable, element);\n",
              "          const docLink = document.createElement('div');\n",
              "          docLink.innerHTML = docLinkHtml;\n",
              "          element.appendChild(docLink);\n",
              "        }\n",
              "      </script>\n",
              "    </div>\n",
              "  </div>\n",
              "  "
            ]
          },
          "metadata": {},
          "execution_count": 7
        }
      ]
    },
    {
      "cell_type": "code",
      "source": [
        "#shows thats null\n",
        "df.isnull().sum()"
      ],
      "metadata": {
        "colab": {
          "base_uri": "https://localhost:8080/"
        },
        "id": "dr70g99-DwRA",
        "outputId": "05a9469a-f975-47a8-a500-87a7e372e989"
      },
      "execution_count": 8,
      "outputs": [
        {
          "output_type": "execute_result",
          "data": {
            "text/plain": [
              "Item_Identifier                0\n",
              "Item_Weight                  286\n",
              "Item_Fat_Content               0\n",
              "Item_Visibility                0\n",
              "Item_Type                      0\n",
              "Item_MRP                       0\n",
              "Outlet_Identifier              0\n",
              "Outlet_Establishment_Year      0\n",
              "Outlet_Size                  414\n",
              "Outlet_Location_Type           0\n",
              "Outlet_Type                    0\n",
              "Item_Outlet_Sales              0\n",
              "dtype: int64"
            ]
          },
          "metadata": {},
          "execution_count": 8
        }
      ]
    },
    {
      "cell_type": "code",
      "source": [
        "#fills missing data with mean for integer based colum, then verifys it was filled\n",
        "df['Item_Weight'].fillna(df['Item_Weight'].mean(), inplace = True)\n",
        "print(df.isnull().sum())"
      ],
      "metadata": {
        "id": "Feoit-iKPYgU",
        "colab": {
          "base_uri": "https://localhost:8080/"
        },
        "outputId": "caba8af4-f778-496d-d396-a5af708087af"
      },
      "execution_count": 9,
      "outputs": [
        {
          "output_type": "stream",
          "name": "stdout",
          "text": [
            "Item_Identifier                0\n",
            "Item_Weight                    0\n",
            "Item_Fat_Content               0\n",
            "Item_Visibility                0\n",
            "Item_Type                      0\n",
            "Item_MRP                       0\n",
            "Outlet_Identifier              0\n",
            "Outlet_Establishment_Year      0\n",
            "Outlet_Size                  414\n",
            "Outlet_Location_Type           0\n",
            "Outlet_Type                    0\n",
            "Item_Outlet_Sales              0\n",
            "dtype: int64\n"
          ]
        }
      ]
    },
    {
      "cell_type": "code",
      "source": [
        "#shows unique values for outlet size column\n",
        "df['Outlet_Size'].unique()"
      ],
      "metadata": {
        "colab": {
          "base_uri": "https://localhost:8080/"
        },
        "id": "BrsPX94VQ-VY",
        "outputId": "d323e574-ae9a-4652-9c75-bf3608669e19"
      },
      "execution_count": 10,
      "outputs": [
        {
          "output_type": "execute_result",
          "data": {
            "text/plain": [
              "array(['Medium', 'Small', nan, 'High'], dtype=object)"
            ]
          },
          "metadata": {},
          "execution_count": 10
        }
      ]
    },
    {
      "cell_type": "code",
      "source": [
        "#fills missing strings with new catagory then verifys data is filled\n",
        "df['Outlet_Size'].fillna(('unknown'), inplace = True)\n",
        "print(df.isnull().sum())"
      ],
      "metadata": {
        "id": "1omov7yKSO0n",
        "colab": {
          "base_uri": "https://localhost:8080/"
        },
        "outputId": "8c0b4381-46d7-4892-acb5-1d5dcbb3cc3b"
      },
      "execution_count": 11,
      "outputs": [
        {
          "output_type": "stream",
          "name": "stdout",
          "text": [
            "Item_Identifier              0\n",
            "Item_Weight                  0\n",
            "Item_Fat_Content             0\n",
            "Item_Visibility              0\n",
            "Item_Type                    0\n",
            "Item_MRP                     0\n",
            "Outlet_Identifier            0\n",
            "Outlet_Establishment_Year    0\n",
            "Outlet_Size                  0\n",
            "Outlet_Location_Type         0\n",
            "Outlet_Type                  0\n",
            "Item_Outlet_Sales            0\n",
            "dtype: int64\n"
          ]
        }
      ]
    },
    {
      "cell_type": "code",
      "source": [
        "#shows sum of unique values per column\n",
        "df.nunique()"
      ],
      "metadata": {
        "id": "7GnxJ7hXTrC9",
        "colab": {
          "base_uri": "https://localhost:8080/"
        },
        "outputId": "f105189c-afb5-4562-9ee1-bf99559ccc83"
      },
      "execution_count": 12,
      "outputs": [
        {
          "output_type": "execute_result",
          "data": {
            "text/plain": [
              "Item_Identifier              1559\n",
              "Item_Weight                   383\n",
              "Item_Fat_Content                5\n",
              "Item_Visibility              1455\n",
              "Item_Type                      16\n",
              "Item_MRP                     1443\n",
              "Outlet_Identifier              10\n",
              "Outlet_Establishment_Year       9\n",
              "Outlet_Size                     4\n",
              "Outlet_Location_Type            3\n",
              "Outlet_Type                     4\n",
              "Item_Outlet_Sales            1231\n",
              "dtype: int64"
            ]
          },
          "metadata": {},
          "execution_count": 12
        }
      ]
    },
    {
      "cell_type": "code",
      "source": [
        "#shows datatypes of all comuns\n",
        "df.dtypes"
      ],
      "metadata": {
        "id": "x4kFYwnSbASb",
        "colab": {
          "base_uri": "https://localhost:8080/"
        },
        "outputId": "4eca5429-687c-46fe-c39c-0902bd5c5882"
      },
      "execution_count": 13,
      "outputs": [
        {
          "output_type": "execute_result",
          "data": {
            "text/plain": [
              "Item_Identifier               object\n",
              "Item_Weight                  float64\n",
              "Item_Fat_Content              object\n",
              "Item_Visibility              float64\n",
              "Item_Type                     object\n",
              "Item_MRP                     float64\n",
              "Outlet_Identifier             object\n",
              "Outlet_Establishment_Year      int64\n",
              "Outlet_Size                   object\n",
              "Outlet_Location_Type          object\n",
              "Outlet_Type                   object\n",
              "Item_Outlet_Sales            float64\n",
              "dtype: object"
            ]
          },
          "metadata": {},
          "execution_count": 13
        }
      ]
    },
    {
      "cell_type": "code",
      "source": [
        "#Goes through data. setting all strings to lowercase to get rid of inconsistent categories of data\n",
        "for col in df.columns:\n",
        "  if df[col].dtypes == object:\n",
        "    df[col] = df[col].str.lower()\n",
        "df"
      ],
      "metadata": {
        "id": "A5oQR2RyXFnk",
        "colab": {
          "base_uri": "https://localhost:8080/",
          "height": 423
        },
        "outputId": "ba878543-101e-4e21-9a98-d5d24eab0a70"
      },
      "execution_count": 14,
      "outputs": [
        {
          "output_type": "execute_result",
          "data": {
            "text/plain": [
              "     Item_Identifier  Item_Weight Item_Fat_Content  Item_Visibility  \\\n",
              "927            fdn52    12.731563          regular         0.130933   \n",
              "1155           fdo33    14.750000          low fat         0.089686   \n",
              "1271           fdy43    14.850000          low fat         0.098803   \n",
              "1349           fdy58    11.650000          low fat         0.039981   \n",
              "1567           fdr03    15.700000          regular         0.008734   \n",
              "...              ...          ...              ...              ...   \n",
              "8518           fdf22     6.865000          low fat         0.056783   \n",
              "8519           fds36     8.380000          regular         0.046982   \n",
              "8520           ncj29    10.600000          low fat         0.035186   \n",
              "8521           fdn46     7.210000          regular         0.145221   \n",
              "8522           drg01    14.800000          low fat         0.044878   \n",
              "\n",
              "                  Item_Type  Item_MRP Outlet_Identifier  \\\n",
              "927            frozen foods   86.9198            out027   \n",
              "1155            snack foods  115.3518            out018   \n",
              "1271  fruits and vegetables  169.7474            out018   \n",
              "1349            snack foods  227.3694            out049   \n",
              "1567                   meat  207.8980            out035   \n",
              "...                     ...       ...               ...   \n",
              "8518            snack foods  214.5218            out013   \n",
              "8519           baking goods  108.1570            out045   \n",
              "8520     health and hygiene   85.1224            out035   \n",
              "8521            snack foods  103.1332            out018   \n",
              "8522            soft drinks   75.4670            out046   \n",
              "\n",
              "      Outlet_Establishment_Year Outlet_Size Outlet_Location_Type  \\\n",
              "927                        1985      medium               tier 3   \n",
              "1155                       2009      medium               tier 3   \n",
              "1271                       2009      medium               tier 3   \n",
              "1349                       1999      medium               tier 1   \n",
              "1567                       2004       small               tier 2   \n",
              "...                         ...         ...                  ...   \n",
              "8518                       1987        high               tier 3   \n",
              "8519                       2002     unknown               tier 2   \n",
              "8520                       2004       small               tier 2   \n",
              "8521                       2009      medium               tier 3   \n",
              "8522                       1997       small               tier 1   \n",
              "\n",
              "            Outlet_Type  Item_Outlet_Sales  \n",
              "927   supermarket type3          1569.9564  \n",
              "1155  supermarket type2          1821.6288  \n",
              "1271  supermarket type2           673.7896  \n",
              "1349  supermarket type1          4567.3880  \n",
              "1567  supermarket type1          3095.9700  \n",
              "...                 ...                ...  \n",
              "8518  supermarket type1          2778.3834  \n",
              "8519  supermarket type1           549.2850  \n",
              "8520  supermarket type1          1193.1136  \n",
              "8521  supermarket type2          1845.5976  \n",
              "8522  supermarket type1           765.6700  \n",
              "\n",
              "[1559 rows x 12 columns]"
            ],
            "text/html": [
              "\n",
              "  <div id=\"df-8affce72-3ce8-4ec5-bfce-8002128e8c88\">\n",
              "    <div class=\"colab-df-container\">\n",
              "      <div>\n",
              "<style scoped>\n",
              "    .dataframe tbody tr th:only-of-type {\n",
              "        vertical-align: middle;\n",
              "    }\n",
              "\n",
              "    .dataframe tbody tr th {\n",
              "        vertical-align: top;\n",
              "    }\n",
              "\n",
              "    .dataframe thead th {\n",
              "        text-align: right;\n",
              "    }\n",
              "</style>\n",
              "<table border=\"1\" class=\"dataframe\">\n",
              "  <thead>\n",
              "    <tr style=\"text-align: right;\">\n",
              "      <th></th>\n",
              "      <th>Item_Identifier</th>\n",
              "      <th>Item_Weight</th>\n",
              "      <th>Item_Fat_Content</th>\n",
              "      <th>Item_Visibility</th>\n",
              "      <th>Item_Type</th>\n",
              "      <th>Item_MRP</th>\n",
              "      <th>Outlet_Identifier</th>\n",
              "      <th>Outlet_Establishment_Year</th>\n",
              "      <th>Outlet_Size</th>\n",
              "      <th>Outlet_Location_Type</th>\n",
              "      <th>Outlet_Type</th>\n",
              "      <th>Item_Outlet_Sales</th>\n",
              "    </tr>\n",
              "  </thead>\n",
              "  <tbody>\n",
              "    <tr>\n",
              "      <th>927</th>\n",
              "      <td>fdn52</td>\n",
              "      <td>12.731563</td>\n",
              "      <td>regular</td>\n",
              "      <td>0.130933</td>\n",
              "      <td>frozen foods</td>\n",
              "      <td>86.9198</td>\n",
              "      <td>out027</td>\n",
              "      <td>1985</td>\n",
              "      <td>medium</td>\n",
              "      <td>tier 3</td>\n",
              "      <td>supermarket type3</td>\n",
              "      <td>1569.9564</td>\n",
              "    </tr>\n",
              "    <tr>\n",
              "      <th>1155</th>\n",
              "      <td>fdo33</td>\n",
              "      <td>14.750000</td>\n",
              "      <td>low fat</td>\n",
              "      <td>0.089686</td>\n",
              "      <td>snack foods</td>\n",
              "      <td>115.3518</td>\n",
              "      <td>out018</td>\n",
              "      <td>2009</td>\n",
              "      <td>medium</td>\n",
              "      <td>tier 3</td>\n",
              "      <td>supermarket type2</td>\n",
              "      <td>1821.6288</td>\n",
              "    </tr>\n",
              "    <tr>\n",
              "      <th>1271</th>\n",
              "      <td>fdy43</td>\n",
              "      <td>14.850000</td>\n",
              "      <td>low fat</td>\n",
              "      <td>0.098803</td>\n",
              "      <td>fruits and vegetables</td>\n",
              "      <td>169.7474</td>\n",
              "      <td>out018</td>\n",
              "      <td>2009</td>\n",
              "      <td>medium</td>\n",
              "      <td>tier 3</td>\n",
              "      <td>supermarket type2</td>\n",
              "      <td>673.7896</td>\n",
              "    </tr>\n",
              "    <tr>\n",
              "      <th>1349</th>\n",
              "      <td>fdy58</td>\n",
              "      <td>11.650000</td>\n",
              "      <td>low fat</td>\n",
              "      <td>0.039981</td>\n",
              "      <td>snack foods</td>\n",
              "      <td>227.3694</td>\n",
              "      <td>out049</td>\n",
              "      <td>1999</td>\n",
              "      <td>medium</td>\n",
              "      <td>tier 1</td>\n",
              "      <td>supermarket type1</td>\n",
              "      <td>4567.3880</td>\n",
              "    </tr>\n",
              "    <tr>\n",
              "      <th>1567</th>\n",
              "      <td>fdr03</td>\n",
              "      <td>15.700000</td>\n",
              "      <td>regular</td>\n",
              "      <td>0.008734</td>\n",
              "      <td>meat</td>\n",
              "      <td>207.8980</td>\n",
              "      <td>out035</td>\n",
              "      <td>2004</td>\n",
              "      <td>small</td>\n",
              "      <td>tier 2</td>\n",
              "      <td>supermarket type1</td>\n",
              "      <td>3095.9700</td>\n",
              "    </tr>\n",
              "    <tr>\n",
              "      <th>...</th>\n",
              "      <td>...</td>\n",
              "      <td>...</td>\n",
              "      <td>...</td>\n",
              "      <td>...</td>\n",
              "      <td>...</td>\n",
              "      <td>...</td>\n",
              "      <td>...</td>\n",
              "      <td>...</td>\n",
              "      <td>...</td>\n",
              "      <td>...</td>\n",
              "      <td>...</td>\n",
              "      <td>...</td>\n",
              "    </tr>\n",
              "    <tr>\n",
              "      <th>8518</th>\n",
              "      <td>fdf22</td>\n",
              "      <td>6.865000</td>\n",
              "      <td>low fat</td>\n",
              "      <td>0.056783</td>\n",
              "      <td>snack foods</td>\n",
              "      <td>214.5218</td>\n",
              "      <td>out013</td>\n",
              "      <td>1987</td>\n",
              "      <td>high</td>\n",
              "      <td>tier 3</td>\n",
              "      <td>supermarket type1</td>\n",
              "      <td>2778.3834</td>\n",
              "    </tr>\n",
              "    <tr>\n",
              "      <th>8519</th>\n",
              "      <td>fds36</td>\n",
              "      <td>8.380000</td>\n",
              "      <td>regular</td>\n",
              "      <td>0.046982</td>\n",
              "      <td>baking goods</td>\n",
              "      <td>108.1570</td>\n",
              "      <td>out045</td>\n",
              "      <td>2002</td>\n",
              "      <td>unknown</td>\n",
              "      <td>tier 2</td>\n",
              "      <td>supermarket type1</td>\n",
              "      <td>549.2850</td>\n",
              "    </tr>\n",
              "    <tr>\n",
              "      <th>8520</th>\n",
              "      <td>ncj29</td>\n",
              "      <td>10.600000</td>\n",
              "      <td>low fat</td>\n",
              "      <td>0.035186</td>\n",
              "      <td>health and hygiene</td>\n",
              "      <td>85.1224</td>\n",
              "      <td>out035</td>\n",
              "      <td>2004</td>\n",
              "      <td>small</td>\n",
              "      <td>tier 2</td>\n",
              "      <td>supermarket type1</td>\n",
              "      <td>1193.1136</td>\n",
              "    </tr>\n",
              "    <tr>\n",
              "      <th>8521</th>\n",
              "      <td>fdn46</td>\n",
              "      <td>7.210000</td>\n",
              "      <td>regular</td>\n",
              "      <td>0.145221</td>\n",
              "      <td>snack foods</td>\n",
              "      <td>103.1332</td>\n",
              "      <td>out018</td>\n",
              "      <td>2009</td>\n",
              "      <td>medium</td>\n",
              "      <td>tier 3</td>\n",
              "      <td>supermarket type2</td>\n",
              "      <td>1845.5976</td>\n",
              "    </tr>\n",
              "    <tr>\n",
              "      <th>8522</th>\n",
              "      <td>drg01</td>\n",
              "      <td>14.800000</td>\n",
              "      <td>low fat</td>\n",
              "      <td>0.044878</td>\n",
              "      <td>soft drinks</td>\n",
              "      <td>75.4670</td>\n",
              "      <td>out046</td>\n",
              "      <td>1997</td>\n",
              "      <td>small</td>\n",
              "      <td>tier 1</td>\n",
              "      <td>supermarket type1</td>\n",
              "      <td>765.6700</td>\n",
              "    </tr>\n",
              "  </tbody>\n",
              "</table>\n",
              "<p>1559 rows × 12 columns</p>\n",
              "</div>\n",
              "      <button class=\"colab-df-convert\" onclick=\"convertToInteractive('df-8affce72-3ce8-4ec5-bfce-8002128e8c88')\"\n",
              "              title=\"Convert this dataframe to an interactive table.\"\n",
              "              style=\"display:none;\">\n",
              "        \n",
              "  <svg xmlns=\"http://www.w3.org/2000/svg\" height=\"24px\"viewBox=\"0 0 24 24\"\n",
              "       width=\"24px\">\n",
              "    <path d=\"M0 0h24v24H0V0z\" fill=\"none\"/>\n",
              "    <path d=\"M18.56 5.44l.94 2.06.94-2.06 2.06-.94-2.06-.94-.94-2.06-.94 2.06-2.06.94zm-11 1L8.5 8.5l.94-2.06 2.06-.94-2.06-.94L8.5 2.5l-.94 2.06-2.06.94zm10 10l.94 2.06.94-2.06 2.06-.94-2.06-.94-.94-2.06-.94 2.06-2.06.94z\"/><path d=\"M17.41 7.96l-1.37-1.37c-.4-.4-.92-.59-1.43-.59-.52 0-1.04.2-1.43.59L10.3 9.45l-7.72 7.72c-.78.78-.78 2.05 0 2.83L4 21.41c.39.39.9.59 1.41.59.51 0 1.02-.2 1.41-.59l7.78-7.78 2.81-2.81c.8-.78.8-2.07 0-2.86zM5.41 20L4 18.59l7.72-7.72 1.47 1.35L5.41 20z\"/>\n",
              "  </svg>\n",
              "      </button>\n",
              "      \n",
              "  <style>\n",
              "    .colab-df-container {\n",
              "      display:flex;\n",
              "      flex-wrap:wrap;\n",
              "      gap: 12px;\n",
              "    }\n",
              "\n",
              "    .colab-df-convert {\n",
              "      background-color: #E8F0FE;\n",
              "      border: none;\n",
              "      border-radius: 50%;\n",
              "      cursor: pointer;\n",
              "      display: none;\n",
              "      fill: #1967D2;\n",
              "      height: 32px;\n",
              "      padding: 0 0 0 0;\n",
              "      width: 32px;\n",
              "    }\n",
              "\n",
              "    .colab-df-convert:hover {\n",
              "      background-color: #E2EBFA;\n",
              "      box-shadow: 0px 1px 2px rgba(60, 64, 67, 0.3), 0px 1px 3px 1px rgba(60, 64, 67, 0.15);\n",
              "      fill: #174EA6;\n",
              "    }\n",
              "\n",
              "    [theme=dark] .colab-df-convert {\n",
              "      background-color: #3B4455;\n",
              "      fill: #D2E3FC;\n",
              "    }\n",
              "\n",
              "    [theme=dark] .colab-df-convert:hover {\n",
              "      background-color: #434B5C;\n",
              "      box-shadow: 0px 1px 3px 1px rgba(0, 0, 0, 0.15);\n",
              "      filter: drop-shadow(0px 1px 2px rgba(0, 0, 0, 0.3));\n",
              "      fill: #FFFFFF;\n",
              "    }\n",
              "  </style>\n",
              "\n",
              "      <script>\n",
              "        const buttonEl =\n",
              "          document.querySelector('#df-8affce72-3ce8-4ec5-bfce-8002128e8c88 button.colab-df-convert');\n",
              "        buttonEl.style.display =\n",
              "          google.colab.kernel.accessAllowed ? 'block' : 'none';\n",
              "\n",
              "        async function convertToInteractive(key) {\n",
              "          const element = document.querySelector('#df-8affce72-3ce8-4ec5-bfce-8002128e8c88');\n",
              "          const dataTable =\n",
              "            await google.colab.kernel.invokeFunction('convertToInteractive',\n",
              "                                                     [key], {});\n",
              "          if (!dataTable) return;\n",
              "\n",
              "          const docLinkHtml = 'Like what you see? Visit the ' +\n",
              "            '<a target=\"_blank\" href=https://colab.research.google.com/notebooks/data_table.ipynb>data table notebook</a>'\n",
              "            + ' to learn more about interactive tables.';\n",
              "          element.innerHTML = '';\n",
              "          dataTable['output_type'] = 'display_data';\n",
              "          await google.colab.output.renderOutput(dataTable, element);\n",
              "          const docLink = document.createElement('div');\n",
              "          docLink.innerHTML = docLinkHtml;\n",
              "          element.appendChild(docLink);\n",
              "        }\n",
              "      </script>\n",
              "    </div>\n",
              "  </div>\n",
              "  "
            ]
          },
          "metadata": {},
          "execution_count": 14
        }
      ]
    },
    {
      "cell_type": "code",
      "source": [
        "df.select_dtypes('object').value_counts() "
      ],
      "metadata": {
        "colab": {
          "base_uri": "https://localhost:8080/"
        },
        "id": "HP3lXFFKoURO",
        "outputId": "2c6ca96c-d11d-48e4-808a-a5eacd7a25af"
      },
      "execution_count": 15,
      "outputs": [
        {
          "output_type": "execute_result",
          "data": {
            "text/plain": [
              "Item_Identifier  Item_Fat_Content  Item_Type     Outlet_Identifier  Outlet_Size  Outlet_Location_Type  Outlet_Type      \n",
              "dra12            low fat           soft drinks   out010             unknown      tier 3                grocery store        1\n",
              "fdv10            regular           snack foods   out019             small        tier 1                grocery store        1\n",
              "fdv36            low fat           baking goods  out027             medium       tier 3                supermarket type3    1\n",
              "fdv35            low fat           breads        out018             medium       tier 3                supermarket type2    1\n",
              "fdv34            regular           snack foods   out013             high         tier 3                supermarket type1    1\n",
              "                                                                                                                           ..\n",
              "fdj16            low fat           frozen foods  out017             unknown      tier 2                supermarket type1    1\n",
              "fdj15            regular           dairy         out017             unknown      tier 2                supermarket type1    1\n",
              "fdj14            regular           canned        out013             high         tier 3                supermarket type1    1\n",
              "fdj12            regular           baking goods  out045             unknown      tier 2                supermarket type1    1\n",
              "ncz54            low fat           household     out049             medium       tier 1                supermarket type1    1\n",
              "Length: 1559, dtype: int64"
            ]
          },
          "metadata": {},
          "execution_count": 15
        }
      ]
    },
    {
      "cell_type": "code",
      "source": [
        "#===================================================================================================================================="
      ],
      "metadata": {
        "id": "6XwU-ELLouyj"
      },
      "execution_count": 16,
      "outputs": []
    },
    {
      "cell_type": "code",
      "source": [
        "#checks for catagorical data errors"
      ],
      "metadata": {
        "id": "SycsMWiws-CZ"
      },
      "execution_count": 17,
      "outputs": []
    },
    {
      "cell_type": "code",
      "source": [
        "df['Item_Identifier'].value_counts() "
      ],
      "metadata": {
        "id": "PmGWLar_oPiX",
        "colab": {
          "base_uri": "https://localhost:8080/"
        },
        "outputId": "a2fa602e-52c9-42a8-9d5e-6210761f825e"
      },
      "execution_count": 18,
      "outputs": [
        {
          "output_type": "execute_result",
          "data": {
            "text/plain": [
              "fdn52    1\n",
              "fdp57    1\n",
              "ncl41    1\n",
              "fdz56    1\n",
              "fdg10    1\n",
              "        ..\n",
              "nco43    1\n",
              "ncn19    1\n",
              "fdf14    1\n",
              "fdu33    1\n",
              "drg01    1\n",
              "Name: Item_Identifier, Length: 1559, dtype: int64"
            ]
          },
          "metadata": {},
          "execution_count": 18
        }
      ]
    },
    {
      "cell_type": "code",
      "source": [
        "df['Item_Fat_Content'].value_counts() "
      ],
      "metadata": {
        "colab": {
          "base_uri": "https://localhost:8080/"
        },
        "id": "SBoyUksyojSB",
        "outputId": "1d45334f-333a-4900-8b3c-40f206d55b1e"
      },
      "execution_count": 19,
      "outputs": [
        {
          "output_type": "execute_result",
          "data": {
            "text/plain": [
              "low fat    949\n",
              "regular    530\n",
              "lf          59\n",
              "reg         21\n",
              "Name: Item_Fat_Content, dtype: int64"
            ]
          },
          "metadata": {},
          "execution_count": 19
        }
      ]
    },
    {
      "cell_type": "code",
      "source": [
        "df['Item_Type'].value_counts() "
      ],
      "metadata": {
        "id": "XglzQu53olH7",
        "colab": {
          "base_uri": "https://localhost:8080/"
        },
        "outputId": "3780df7c-4c15-4c02-9fde-c1380ccfe677"
      },
      "execution_count": 20,
      "outputs": [
        {
          "output_type": "execute_result",
          "data": {
            "text/plain": [
              "snack foods              220\n",
              "fruits and vegetables    220\n",
              "household                170\n",
              "frozen foods             155\n",
              "dairy                    125\n",
              "canned                   120\n",
              "baking goods             119\n",
              "health and hygiene        95\n",
              "meat                      80\n",
              "soft drinks               80\n",
              "breads                    45\n",
              "hard drinks               40\n",
              "starchy foods             30\n",
              "others                    30\n",
              "breakfast                 20\n",
              "seafood                   10\n",
              "Name: Item_Type, dtype: int64"
            ]
          },
          "metadata": {},
          "execution_count": 20
        }
      ]
    },
    {
      "cell_type": "code",
      "source": [
        "df['Outlet_Identifier'].value_counts() "
      ],
      "metadata": {
        "id": "Ce1cecLoolB-",
        "colab": {
          "base_uri": "https://localhost:8080/"
        },
        "outputId": "6eb5d15c-2a04-4f2e-9322-87379f385c8d"
      },
      "execution_count": 21,
      "outputs": [
        {
          "output_type": "execute_result",
          "data": {
            "text/plain": [
              "out049    198\n",
              "out027    179\n",
              "out046    178\n",
              "out017    171\n",
              "out018    168\n",
              "out013    158\n",
              "out035    157\n",
              "out045    152\n",
              "out019    107\n",
              "out010     91\n",
              "Name: Outlet_Identifier, dtype: int64"
            ]
          },
          "metadata": {},
          "execution_count": 21
        }
      ]
    },
    {
      "cell_type": "code",
      "source": [
        "df['Outlet_Size'].value_counts() "
      ],
      "metadata": {
        "id": "sAPlSlzRokYt",
        "colab": {
          "base_uri": "https://localhost:8080/"
        },
        "outputId": "d4122239-ee2f-4d54-d4de-3784db1cb3da"
      },
      "execution_count": 22,
      "outputs": [
        {
          "output_type": "execute_result",
          "data": {
            "text/plain": [
              "medium     545\n",
              "small      442\n",
              "unknown    414\n",
              "high       158\n",
              "Name: Outlet_Size, dtype: int64"
            ]
          },
          "metadata": {},
          "execution_count": 22
        }
      ]
    },
    {
      "cell_type": "code",
      "source": [
        "df['Outlet_Location_Type'].value_counts() "
      ],
      "metadata": {
        "id": "bpHlR9U2okLO",
        "colab": {
          "base_uri": "https://localhost:8080/"
        },
        "outputId": "35596a8c-14dd-4fd8-d456-0562f9f68c8c"
      },
      "execution_count": 23,
      "outputs": [
        {
          "output_type": "execute_result",
          "data": {
            "text/plain": [
              "tier 3    596\n",
              "tier 1    483\n",
              "tier 2    480\n",
              "Name: Outlet_Location_Type, dtype: int64"
            ]
          },
          "metadata": {},
          "execution_count": 23
        }
      ]
    },
    {
      "cell_type": "code",
      "source": [
        "df['Outlet_Type'].value_counts() "
      ],
      "metadata": {
        "id": "yhrwfx2Noj3G",
        "colab": {
          "base_uri": "https://localhost:8080/"
        },
        "outputId": "478fbf37-5452-4344-809d-4cf0e4de6ed0"
      },
      "execution_count": 24,
      "outputs": [
        {
          "output_type": "execute_result",
          "data": {
            "text/plain": [
              "supermarket type1    1014\n",
              "grocery store         198\n",
              "supermarket type3     179\n",
              "supermarket type2     168\n",
              "Name: Outlet_Type, dtype: int64"
            ]
          },
          "metadata": {},
          "execution_count": 24
        }
      ]
    },
    {
      "cell_type": "code",
      "source": [
        "#===================================================================================================================================="
      ],
      "metadata": {
        "id": "vJcn0U1ooxDa"
      },
      "execution_count": 25,
      "outputs": []
    },
    {
      "cell_type": "code",
      "source": [
        "# corrects catagorical data errors"
      ],
      "metadata": {
        "id": "TPdWiOe6tBuP"
      },
      "execution_count": 26,
      "outputs": []
    },
    {
      "cell_type": "code",
      "source": [
        "df['Item_Fat_Content'] = df['Item_Fat_Content'].str.replace('lf', 'low fat');"
      ],
      "metadata": {
        "id": "yZKybttDpCKu"
      },
      "execution_count": 27,
      "outputs": []
    },
    {
      "cell_type": "code",
      "source": [
        "df['Item_Fat_Content'] = df['Item_Fat_Content'].str.replace('reg', 'regular');"
      ],
      "metadata": {
        "id": "E9bSUcdIpSKi"
      },
      "execution_count": 28,
      "outputs": []
    },
    {
      "cell_type": "code",
      "source": [
        "#===================================================================================================================================="
      ],
      "metadata": {
        "id": "IJbZ1EnOpBoS"
      },
      "execution_count": 29,
      "outputs": []
    },
    {
      "cell_type": "code",
      "source": [
        "#prints info on colums that are numerical (float or int)\n",
        "for col in df.columns:\n",
        "  if df[col].dtypes == float or  df[col].dtypes == int:\n",
        "    print(df[col].describe())\n"
      ],
      "metadata": {
        "id": "PIaF2cSkfv9m",
        "colab": {
          "base_uri": "https://localhost:8080/"
        },
        "outputId": "ab838c47-f380-4d45-f655-70a916107045"
      },
      "execution_count": 30,
      "outputs": [
        {
          "output_type": "stream",
          "name": "stdout",
          "text": [
            "count    1559.000000\n",
            "mean       12.731563\n",
            "std         4.191461\n",
            "min         4.555000\n",
            "25%         9.300000\n",
            "50%        12.731563\n",
            "75%        15.700000\n",
            "max        21.350000\n",
            "Name: Item_Weight, dtype: float64\n",
            "count    1559.000000\n",
            "mean        0.065673\n",
            "std         0.051254\n",
            "min         0.000000\n",
            "25%         0.026850\n",
            "50%         0.053280\n",
            "75%         0.094078\n",
            "max         0.306543\n",
            "Name: Item_Visibility, dtype: float64\n",
            "count    1559.000000\n",
            "mean      141.018184\n",
            "std        62.132281\n",
            "min        32.090000\n",
            "25%        94.094900\n",
            "50%       142.778600\n",
            "75%       185.859500\n",
            "max       266.022600\n",
            "Name: Item_MRP, dtype: float64\n",
            "count    1559.000000\n",
            "mean     1997.679923\n",
            "std         8.399954\n",
            "min      1985.000000\n",
            "25%      1987.000000\n",
            "50%      1999.000000\n",
            "75%      2004.000000\n",
            "max      2009.000000\n",
            "Name: Outlet_Establishment_Year, dtype: float64\n",
            "count     1559.000000\n",
            "mean      2181.598972\n",
            "std       1688.913659\n",
            "min         33.290000\n",
            "25%        800.291600\n",
            "50%       1831.615800\n",
            "75%       3189.847800\n",
            "max      10072.888200\n",
            "Name: Item_Outlet_Sales, dtype: float64\n"
          ]
        }
      ]
    },
    {
      "cell_type": "code",
      "source": [
        "# Histogram of item weights\n",
        "df['Item_Weight'].hist()\n",
        "plt.ticklabel_format(useOffset=False, style='plain')"
      ],
      "metadata": {
        "id": "2vw4j6VRXlAi",
        "colab": {
          "base_uri": "https://localhost:8080/",
          "height": 264
        },
        "outputId": "0ff3f69e-953b-49c1-d7c0-963c30d73bb3"
      },
      "execution_count": 31,
      "outputs": [
        {
          "output_type": "display_data",
          "data": {
            "text/plain": [
              "<Figure size 432x288 with 1 Axes>"
            ],
            "image/png": "[encoded data removed]"
          },
          "metadata": {
            "needs_background": "light"
          }
        }
      ]
    },
    {
      "cell_type": "code",
      "source": [
        "#Boxplot of item type compared to item weight, shows overall averages\n",
        "ax = sns.boxplot(x='Item_Type', y='Item_Weight', data=df)\n",
        "ax.tick_params(labelrotation=90)"
      ],
      "metadata": {
        "id": "TEHELKNjYkew",
        "colab": {
          "base_uri": "https://localhost:8080/",
          "height": 375
        },
        "outputId": "b154737f-a086-4c01-d75f-4ca7481d5ec0"
      },
      "execution_count": 32,
      "outputs": [
        {
          "output_type": "display_data",
          "data": {
            "text/plain": [
              "<Figure size 432x288 with 1 Axes>"
            ],
            "image/png": "[encoded data removed]"
          },
          "metadata": {
            "needs_background": "light"
          }
        }
      ]
    },
    {
      "cell_type": "code",
      "source": [
        "#creates a correlation chart of all numerical imputs for the df\n",
        "corr = df.corr()\n",
        "corr"
      ],
      "metadata": {
        "id": "qBAe5_1hZW5U",
        "colab": {
          "base_uri": "https://localhost:8080/",
          "height": 206
        },
        "outputId": "f8b61d81-9b22-405f-c384-79c899b3bc55"
      },
      "execution_count": 33,
      "outputs": [
        {
          "output_type": "execute_result",
          "data": {
            "text/plain": [
              "                           Item_Weight  Item_Visibility  Item_MRP  \\\n",
              "Item_Weight                   1.000000        -0.022245  0.028789   \n",
              "Item_Visibility              -0.022245         1.000000  0.007386   \n",
              "Item_MRP                      0.028789         0.007386  1.000000   \n",
              "Outlet_Establishment_Year     0.000147        -0.075027 -0.017667   \n",
              "Item_Outlet_Sales             0.020968        -0.118001  0.555175   \n",
              "\n",
              "                           Outlet_Establishment_Year  Item_Outlet_Sales  \n",
              "Item_Weight                                 0.000147           0.020968  \n",
              "Item_Visibility                            -0.075027          -0.118001  \n",
              "Item_MRP                                   -0.017667           0.555175  \n",
              "Outlet_Establishment_Year                   1.000000          -0.036093  \n",
              "Item_Outlet_Sales                          -0.036093           1.000000  "
            ],
            "text/html": [
              "\n",
              "  <div id=\"df-ed0be3f1-b6fa-4496-82e9-21e10ad72e5c\">\n",
              "    <div class=\"colab-df-container\">\n",
              "      <div>\n",
              "<style scoped>\n",
              "    .dataframe tbody tr th:only-of-type {\n",
              "        vertical-align: middle;\n",
              "    }\n",
              "\n",
              "    .dataframe tbody tr th {\n",
              "        vertical-align: top;\n",
              "    }\n",
              "\n",
              "    .dataframe thead th {\n",
              "        text-align: right;\n",
              "    }\n",
              "</style>\n",
              "<table border=\"1\" class=\"dataframe\">\n",
              "  <thead>\n",
              "    <tr style=\"text-align: right;\">\n",
              "      <th></th>\n",
              "      <th>Item_Weight</th>\n",
              "      <th>Item_Visibility</th>\n",
              "      <th>Item_MRP</th>\n",
              "      <th>Outlet_Establishment_Year</th>\n",
              "      <th>Item_Outlet_Sales</th>\n",
              "    </tr>\n",
              "  </thead>\n",
              "  <tbody>\n",
              "    <tr>\n",
              "      <th>Item_Weight</th>\n",
              "      <td>1.000000</td>\n",
              "      <td>-0.022245</td>\n",
              "      <td>0.028789</td>\n",
              "      <td>0.000147</td>\n",
              "      <td>0.020968</td>\n",
              "    </tr>\n",
              "    <tr>\n",
              "      <th>Item_Visibility</th>\n",
              "      <td>-0.022245</td>\n",
              "      <td>1.000000</td>\n",
              "      <td>0.007386</td>\n",
              "      <td>-0.075027</td>\n",
              "      <td>-0.118001</td>\n",
              "    </tr>\n",
              "    <tr>\n",
              "      <th>Item_MRP</th>\n",
              "      <td>0.028789</td>\n",
              "      <td>0.007386</td>\n",
              "      <td>1.000000</td>\n",
              "      <td>-0.017667</td>\n",
              "      <td>0.555175</td>\n",
              "    </tr>\n",
              "    <tr>\n",
              "      <th>Outlet_Establishment_Year</th>\n",
              "      <td>0.000147</td>\n",
              "      <td>-0.075027</td>\n",
              "      <td>-0.017667</td>\n",
              "      <td>1.000000</td>\n",
              "      <td>-0.036093</td>\n",
              "    </tr>\n",
              "    <tr>\n",
              "      <th>Item_Outlet_Sales</th>\n",
              "      <td>0.020968</td>\n",
              "      <td>-0.118001</td>\n",
              "      <td>0.555175</td>\n",
              "      <td>-0.036093</td>\n",
              "      <td>1.000000</td>\n",
              "    </tr>\n",
              "  </tbody>\n",
              "</table>\n",
              "</div>\n",
              "      <button class=\"colab-df-convert\" onclick=\"convertToInteractive('df-ed0be3f1-b6fa-4496-82e9-21e10ad72e5c')\"\n",
              "              title=\"Convert this dataframe to an interactive table.\"\n",
              "              style=\"display:none;\">\n",
              "        \n",
              "  <svg xmlns=\"http://www.w3.org/2000/svg\" height=\"24px\"viewBox=\"0 0 24 24\"\n",
              "       width=\"24px\">\n",
              "    <path d=\"M0 0h24v24H0V0z\" fill=\"none\"/>\n",
              "    <path d=\"M18.56 5.44l.94 2.06.94-2.06 2.06-.94-2.06-.94-.94-2.06-.94 2.06-2.06.94zm-11 1L8.5 8.5l.94-2.06 2.06-.94-2.06-.94L8.5 2.5l-.94 2.06-2.06.94zm10 10l.94 2.06.94-2.06 2.06-.94-2.06-.94-.94-2.06-.94 2.06-2.06.94z\"/><path d=\"M17.41 7.96l-1.37-1.37c-.4-.4-.92-.59-1.43-.59-.52 0-1.04.2-1.43.59L10.3 9.45l-7.72 7.72c-.78.78-.78 2.05 0 2.83L4 21.41c.39.39.9.59 1.41.59.51 0 1.02-.2 1.41-.59l7.78-7.78 2.81-2.81c.8-.78.8-2.07 0-2.86zM5.41 20L4 18.59l7.72-7.72 1.47 1.35L5.41 20z\"/>\n",
              "  </svg>\n",
              "      </button>\n",
              "      \n",
              "  <style>\n",
              "    .colab-df-container {\n",
              "      display:flex;\n",
              "      flex-wrap:wrap;\n",
              "      gap: 12px;\n",
              "    }\n",
              "\n",
              "    .colab-df-convert {\n",
              "      background-color: #E8F0FE;\n",
              "      border: none;\n",
              "      border-radius: 50%;\n",
              "      cursor: pointer;\n",
              "      display: none;\n",
              "      fill: #1967D2;\n",
              "      height: 32px;\n",
              "      padding: 0 0 0 0;\n",
              "      width: 32px;\n",
              "    }\n",
              "\n",
              "    .colab-df-convert:hover {\n",
              "      background-color: #E2EBFA;\n",
              "      box-shadow: 0px 1px 2px rgba(60, 64, 67, 0.3), 0px 1px 3px 1px rgba(60, 64, 67, 0.15);\n",
              "      fill: #174EA6;\n",
              "    }\n",
              "\n",
              "    [theme=dark] .colab-df-convert {\n",
              "      background-color: #3B4455;\n",
              "      fill: #D2E3FC;\n",
              "    }\n",
              "\n",
              "    [theme=dark] .colab-df-convert:hover {\n",
              "      background-color: #434B5C;\n",
              "      box-shadow: 0px 1px 3px 1px rgba(0, 0, 0, 0.15);\n",
              "      filter: drop-shadow(0px 1px 2px rgba(0, 0, 0, 0.3));\n",
              "      fill: #FFFFFF;\n",
              "    }\n",
              "  </style>\n",
              "\n",
              "      <script>\n",
              "        const buttonEl =\n",
              "          document.querySelector('#df-ed0be3f1-b6fa-4496-82e9-21e10ad72e5c button.colab-df-convert');\n",
              "        buttonEl.style.display =\n",
              "          google.colab.kernel.accessAllowed ? 'block' : 'none';\n",
              "\n",
              "        async function convertToInteractive(key) {\n",
              "          const element = document.querySelector('#df-ed0be3f1-b6fa-4496-82e9-21e10ad72e5c');\n",
              "          const dataTable =\n",
              "            await google.colab.kernel.invokeFunction('convertToInteractive',\n",
              "                                                     [key], {});\n",
              "          if (!dataTable) return;\n",
              "\n",
              "          const docLinkHtml = 'Like what you see? Visit the ' +\n",
              "            '<a target=\"_blank\" href=https://colab.research.google.com/notebooks/data_table.ipynb>data table notebook</a>'\n",
              "            + ' to learn more about interactive tables.';\n",
              "          element.innerHTML = '';\n",
              "          dataTable['output_type'] = 'display_data';\n",
              "          await google.colab.output.renderOutput(dataTable, element);\n",
              "          const docLink = document.createElement('div');\n",
              "          docLink.innerHTML = docLinkHtml;\n",
              "          element.appendChild(docLink);\n",
              "        }\n",
              "      </script>\n",
              "    </div>\n",
              "  </div>\n",
              "  "
            ]
          },
          "metadata": {},
          "execution_count": 33
        }
      ]
    },
    {
      "cell_type": "code",
      "source": [
        "#creates a basic heatmap comparing numerical datapoints, looks for correlations\n",
        "plt.figure(figsize=(15,15))\n",
        "sns.heatmap(corr, cmap='coolwarm', annot=True)"
      ],
      "metadata": {
        "id": "QgZNRGFlZiY1",
        "colab": {
          "base_uri": "https://localhost:8080/",
          "height": 886
        },
        "outputId": "5194e267-02ed-46e7-f321-82dc7e084279"
      },
      "execution_count": 34,
      "outputs": [
        {
          "output_type": "execute_result",
          "data": {
            "text/plain": [
              "<matplotlib.axes._subplots.AxesSubplot at 0x7f840db208d0>"
            ]
          },
          "metadata": {},
          "execution_count": 34
        },
        {
          "output_type": "display_data",
          "data": {
            "text/plain": [
              "<Figure size 1080x1080 with 2 Axes>"
            ],
            "image/png": "[encoded data removed]"
          },
          "metadata": {
            "needs_background": "light"
          }
        }
      ]
    },
    {
      "cell_type": "code",
      "source": [
        "#creates a mean index of outlet year established\n",
        "line_df = df.groupby('Outlet_Establishment_Year').mean()\n",
        "line_df"
      ],
      "metadata": {
        "id": "YD655agiriWv",
        "colab": {
          "base_uri": "https://localhost:8080/",
          "height": 363
        },
        "outputId": "e1872b58-c6d6-4420-ac61-5b1bb68d5e16"
      },
      "execution_count": 35,
      "outputs": [
        {
          "output_type": "execute_result",
          "data": {
            "text/plain": [
              "                           Item_Weight  Item_Visibility    Item_MRP  \\\n",
              "Outlet_Establishment_Year                                             \n",
              "1985                         12.731563         0.075657  144.648819   \n",
              "1987                         13.112152         0.060211  139.362611   \n",
              "1997                         12.614719         0.060083  144.489967   \n",
              "1998                         11.885330         0.103158  148.333345   \n",
              "1999                         12.832879         0.059434  140.053902   \n",
              "2002                         12.019539         0.058298  127.918280   \n",
              "2004                         12.900478         0.063028  138.506581   \n",
              "2007                         13.287339         0.058318  135.992039   \n",
              "2009                         12.757054         0.063420  149.205490   \n",
              "\n",
              "                           Item_Outlet_Sales  \n",
              "Outlet_Establishment_Year                     \n",
              "1985                             2397.759973  \n",
              "1987                             2357.370248  \n",
              "1997                             2283.301253  \n",
              "1998                              325.634732  \n",
              "1999                             2341.191546  \n",
              "2002                             1982.809343  \n",
              "2004                             2456.857130  \n",
              "2007                             2249.087974  \n",
              "2009                             2211.696449  "
            ],
            "text/html": [
              "\n",
              "  <div id=\"df-0efe59c9-cdfe-45c6-86bd-ce31a20c63ba\">\n",
              "    <div class=\"colab-df-container\">\n",
              "      <div>\n",
              "<style scoped>\n",
              "    .dataframe tbody tr th:only-of-type {\n",
              "        vertical-align: middle;\n",
              "    }\n",
              "\n",
              "    .dataframe tbody tr th {\n",
              "        vertical-align: top;\n",
              "    }\n",
              "\n",
              "    .dataframe thead th {\n",
              "        text-align: right;\n",
              "    }\n",
              "</style>\n",
              "<table border=\"1\" class=\"dataframe\">\n",
              "  <thead>\n",
              "    <tr style=\"text-align: right;\">\n",
              "      <th></th>\n",
              "      <th>Item_Weight</th>\n",
              "      <th>Item_Visibility</th>\n",
              "      <th>Item_MRP</th>\n",
              "      <th>Item_Outlet_Sales</th>\n",
              "    </tr>\n",
              "    <tr>\n",
              "      <th>Outlet_Establishment_Year</th>\n",
              "      <th></th>\n",
              "      <th></th>\n",
              "      <th></th>\n",
              "      <th></th>\n",
              "    </tr>\n",
              "  </thead>\n",
              "  <tbody>\n",
              "    <tr>\n",
              "      <th>1985</th>\n",
              "      <td>12.731563</td>\n",
              "      <td>0.075657</td>\n",
              "      <td>144.648819</td>\n",
              "      <td>2397.759973</td>\n",
              "    </tr>\n",
              "    <tr>\n",
              "      <th>1987</th>\n",
              "      <td>13.112152</td>\n",
              "      <td>0.060211</td>\n",
              "      <td>139.362611</td>\n",
              "      <td>2357.370248</td>\n",
              "    </tr>\n",
              "    <tr>\n",
              "      <th>1997</th>\n",
              "      <td>12.614719</td>\n",
              "      <td>0.060083</td>\n",
              "      <td>144.489967</td>\n",
              "      <td>2283.301253</td>\n",
              "    </tr>\n",
              "    <tr>\n",
              "      <th>1998</th>\n",
              "      <td>11.885330</td>\n",
              "      <td>0.103158</td>\n",
              "      <td>148.333345</td>\n",
              "      <td>325.634732</td>\n",
              "    </tr>\n",
              "    <tr>\n",
              "      <th>1999</th>\n",
              "      <td>12.832879</td>\n",
              "      <td>0.059434</td>\n",
              "      <td>140.053902</td>\n",
              "      <td>2341.191546</td>\n",
              "    </tr>\n",
              "    <tr>\n",
              "      <th>2002</th>\n",
              "      <td>12.019539</td>\n",
              "      <td>0.058298</td>\n",
              "      <td>127.918280</td>\n",
              "      <td>1982.809343</td>\n",
              "    </tr>\n",
              "    <tr>\n",
              "      <th>2004</th>\n",
              "      <td>12.900478</td>\n",
              "      <td>0.063028</td>\n",
              "      <td>138.506581</td>\n",
              "      <td>2456.857130</td>\n",
              "    </tr>\n",
              "    <tr>\n",
              "      <th>2007</th>\n",
              "      <td>13.287339</td>\n",
              "      <td>0.058318</td>\n",
              "      <td>135.992039</td>\n",
              "      <td>2249.087974</td>\n",
              "    </tr>\n",
              "    <tr>\n",
              "      <th>2009</th>\n",
              "      <td>12.757054</td>\n",
              "      <td>0.063420</td>\n",
              "      <td>149.205490</td>\n",
              "      <td>2211.696449</td>\n",
              "    </tr>\n",
              "  </tbody>\n",
              "</table>\n",
              "</div>\n",
              "      <button class=\"colab-df-convert\" onclick=\"convertToInteractive('df-0efe59c9-cdfe-45c6-86bd-ce31a20c63ba')\"\n",
              "              title=\"Convert this dataframe to an interactive table.\"\n",
              "              style=\"display:none;\">\n",
              "        \n",
              "  <svg xmlns=\"http://www.w3.org/2000/svg\" height=\"24px\"viewBox=\"0 0 24 24\"\n",
              "       width=\"24px\">\n",
              "    <path d=\"M0 0h24v24H0V0z\" fill=\"none\"/>\n",
              "    <path d=\"M18.56 5.44l.94 2.06.94-2.06 2.06-.94-2.06-.94-.94-2.06-.94 2.06-2.06.94zm-11 1L8.5 8.5l.94-2.06 2.06-.94-2.06-.94L8.5 2.5l-.94 2.06-2.06.94zm10 10l.94 2.06.94-2.06 2.06-.94-2.06-.94-.94-2.06-.94 2.06-2.06.94z\"/><path d=\"M17.41 7.96l-1.37-1.37c-.4-.4-.92-.59-1.43-.59-.52 0-1.04.2-1.43.59L10.3 9.45l-7.72 7.72c-.78.78-.78 2.05 0 2.83L4 21.41c.39.39.9.59 1.41.59.51 0 1.02-.2 1.41-.59l7.78-7.78 2.81-2.81c.8-.78.8-2.07 0-2.86zM5.41 20L4 18.59l7.72-7.72 1.47 1.35L5.41 20z\"/>\n",
              "  </svg>\n",
              "      </button>\n",
              "      \n",
              "  <style>\n",
              "    .colab-df-container {\n",
              "      display:flex;\n",
              "      flex-wrap:wrap;\n",
              "      gap: 12px;\n",
              "    }\n",
              "\n",
              "    .colab-df-convert {\n",
              "      background-color: #E8F0FE;\n",
              "      border: none;\n",
              "      border-radius: 50%;\n",
              "      cursor: pointer;\n",
              "      display: none;\n",
              "      fill: #1967D2;\n",
              "      height: 32px;\n",
              "      padding: 0 0 0 0;\n",
              "      width: 32px;\n",
              "    }\n",
              "\n",
              "    .colab-df-convert:hover {\n",
              "      background-color: #E2EBFA;\n",
              "      box-shadow: 0px 1px 2px rgba(60, 64, 67, 0.3), 0px 1px 3px 1px rgba(60, 64, 67, 0.15);\n",
              "      fill: #174EA6;\n",
              "    }\n",
              "\n",
              "    [theme=dark] .colab-df-convert {\n",
              "      background-color: #3B4455;\n",
              "      fill: #D2E3FC;\n",
              "    }\n",
              "\n",
              "    [theme=dark] .colab-df-convert:hover {\n",
              "      background-color: #434B5C;\n",
              "      box-shadow: 0px 1px 3px 1px rgba(0, 0, 0, 0.15);\n",
              "      filter: drop-shadow(0px 1px 2px rgba(0, 0, 0, 0.3));\n",
              "      fill: #FFFFFF;\n",
              "    }\n",
              "  </style>\n",
              "\n",
              "      <script>\n",
              "        const buttonEl =\n",
              "          document.querySelector('#df-0efe59c9-cdfe-45c6-86bd-ce31a20c63ba button.colab-df-convert');\n",
              "        buttonEl.style.display =\n",
              "          google.colab.kernel.accessAllowed ? 'block' : 'none';\n",
              "\n",
              "        async function convertToInteractive(key) {\n",
              "          const element = document.querySelector('#df-0efe59c9-cdfe-45c6-86bd-ce31a20c63ba');\n",
              "          const dataTable =\n",
              "            await google.colab.kernel.invokeFunction('convertToInteractive',\n",
              "                                                     [key], {});\n",
              "          if (!dataTable) return;\n",
              "\n",
              "          const docLinkHtml = 'Like what you see? Visit the ' +\n",
              "            '<a target=\"_blank\" href=https://colab.research.google.com/notebooks/data_table.ipynb>data table notebook</a>'\n",
              "            + ' to learn more about interactive tables.';\n",
              "          element.innerHTML = '';\n",
              "          dataTable['output_type'] = 'display_data';\n",
              "          await google.colab.output.renderOutput(dataTable, element);\n",
              "          const docLink = document.createElement('div');\n",
              "          docLink.innerHTML = docLinkHtml;\n",
              "          element.appendChild(docLink);\n",
              "        }\n",
              "      </script>\n",
              "    </div>\n",
              "  </div>\n",
              "  "
            ]
          },
          "metadata": {},
          "execution_count": 35
        }
      ]
    },
    {
      "cell_type": "code",
      "source": [
        "#Plots item sales vs outlet year established\n",
        "line_df.plot(y=['Item_Outlet_Sales'], subplots=True, marker='o', figsize=(15,12));\n",
        "plt.title('Sales compared to Outlet established year', fontsize=30)"
      ],
      "metadata": {
        "colab": {
          "base_uri": "https://localhost:8080/",
          "height": 762
        },
        "id": "IvVHHXL0vtYu",
        "outputId": "06b11629-8bbc-4f4a-aca6-726e8848e1e9"
      },
      "execution_count": 66,
      "outputs": [
        {
          "output_type": "execute_result",
          "data": {
            "text/plain": [
              "Text(0.5, 1.0, 'Sales compared to Outlet established year')"
            ]
          },
          "metadata": {},
          "execution_count": 66
        },
        {
          "output_type": "display_data",
          "data": {
            "text/plain": [
              "<Figure size 1080x864 with 1 Axes>"
            ],
            "image/png": "[encoded data removed]"
          },
          "metadata": {
            "needs_background": "light"
          }
        }
      ]
    },
    {
      "cell_type": "markdown",
      "source": [
        ""
      ],
      "metadata": {
        "id": "YgKzx0r8lg8q"
      }
    },
    {
      "cell_type": "code",
      "source": [
        "#creates violin boxplot to show outlet tier vs sales\n",
        "boxplot = sns.violinplot(data=df, x='Outlet_Location_Type',y='Item_Outlet_Sales')\n",
        "\n",
        "\n",
        "boxplot.axes.set_title(\"Outlet tier VS Outlet sales\", fontsize=30)\n",
        "boxplot.set_ylabel(\"Outlet Sales\", fontsize=14)\n",
        "boxplot.set_xlabel(\"Outlet Tier\", fontsize=14);"
      ],
      "metadata": {
        "colab": {
          "base_uri": "https://localhost:8080/",
          "height": 312
        },
        "id": "Hcrpyh2Nw6Y6",
        "outputId": "7bfecdf0-7b18-4ea4-ccb7-484036a92b33"
      },
      "execution_count": 73,
      "outputs": [
        {
          "output_type": "display_data",
          "data": {
            "text/plain": [
              "<Figure size 432x288 with 1 Axes>"
            ],
            "image/png": "[encoded data removed]"
          },
          "metadata": {
            "needs_background": "light"
          }
        }
      ]
    }
  ]
}